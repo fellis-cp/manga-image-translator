{
  "nbformat": 4,
  "nbformat_minor": 0,
  "metadata": {
    "colab": {
      "provenance": [],
      "authorship_tag": "ABX9TyMSjhR5YbMBAHJdyLWPRlko",
      "include_colab_link": true
    },
    "kernelspec": {
      "name": "python3",
      "display_name": "Python 3"
    },
    "language_info": {
      "name": "python"
    }
  },
  "cells": [
    {
      "cell_type": "markdown",
      "metadata": {
        "id": "view-in-github",
        "colab_type": "text"
      },
      "source": [
        "<a href=\"https://colab.research.google.com/github/fellis-cp/manga-image-translator/blob/main/Automate.ipynb\" target=\"_parent\"><img src=\"https://colab.research.google.com/assets/colab-badge.svg\" alt=\"Open In Colab\"/></a>"
      ]
    },
    {
      "cell_type": "code",
      "execution_count": null,
      "metadata": {
        "id": "TW5VQDjJ7I19"
      },
      "outputs": [],
      "source": [
        "!git clone https://github.com/zyddnys/manga-image-translator.git\n",
        "%cd manga-image-translator\n",
        "!pip install -r requirements.txt"
      ]
    },
    {
      "cell_type": "code",
      "source": [
        "!pip install git+https://github.com/kodalli/pydensecrf.git"
      ],
      "metadata": {
        "id": "62Pr2mxi9GFy"
      },
      "execution_count": null,
      "outputs": []
    },
    {
      "cell_type": "code",
      "source": [
        "import os\n",
        "from google.colab import drive\n",
        "import zipfile\n",
        "\n",
        "# Mount Google Drive\n",
        "drive.mount('/content/drive')\n",
        "\n",
        "# Define the directory paths\n",
        "drive_directory = '/content/drive/MyDrive/ex'  # Update this with your Google Drive directory path\n",
        "test_directory = '/content/test'\n",
        "\n",
        "# Check if the test directory exists, if not, create it\n",
        "if not os.path.exists(test_directory):\n",
        "    os.makedirs(test_directory)\n",
        "    print(f\"Directory '{test_directory}' created successfully.\")\n",
        "else:\n",
        "    print(f\"Directory '{test_directory}' already exists.\")\n",
        "\n",
        "# Specify the filename of the zip file in your Google Drive\n",
        "zip_filename = '4.zip'  # Update this with your zip file name\n",
        "\n",
        "# Path to the zip file in Google Drive\n",
        "zip_file_path = os.path.join(drive_directory, zip_filename)\n",
        "\n",
        "# Extract the zip file\n",
        "with zipfile.ZipFile(zip_file_path, 'r') as zip_ref:\n",
        "    zip_ref.extractall('/content/temp')  # Extract to a temporary directory\n",
        "\n",
        "# Move the extracted files to the desired directory\n",
        "extracted_files = os.listdir('/content/temp')\n",
        "for file in extracted_files:\n",
        "    src = os.path.join('/content/temp', file)\n",
        "    dst = os.path.join('/content/test', file)  # Change this destination directory as needed\n",
        "    os.rename(src, dst)\n",
        "\n",
        "# Clean up temporary directory\n",
        "os.rmdir('/content/temp')\n"
      ],
      "metadata": {
        "colab": {
          "base_uri": "https://localhost:8080/"
        },
        "id": "gl6TnXqQ9HDk",
        "outputId": "3d489959-2050-48fd-9e1f-6972670cf416"
      },
      "execution_count": null,
      "outputs": [
        {
          "output_type": "stream",
          "name": "stdout",
          "text": [
            "Drive already mounted at /content/drive; to attempt to forcibly remount, call drive.mount(\"/content/drive\", force_remount=True).\n",
            "Directory '/content/test' created successfully.\n"
          ]
        }
      ]
    },
    {
      "cell_type": "code",
      "source": [
        " !python -m manga_translator --translator=sugoi -l ENG -i /content/test/  -v --font-path fonts/anime_ace_3.ttf  --upscale-ratio 2  --uppercase --font-size-offset 7 --manga2eng --use-gpu-limited"
      ],
      "metadata": {
        "id": "wFP_dQFo9H8R"
      },
      "execution_count": null,
      "outputs": []
    },
    {
      "cell_type": "code",
      "source": [
        "import os\n",
        "import shutil\n",
        "from google.colab import files\n",
        "from google.colab import drive\n",
        "\n",
        "# Mount Google Drive\n",
        "drive.mount('/content/drive')\n",
        "\n",
        "# Define the directory containing the translated images\n",
        "translated_images_dir = '/content/test-translated'\n",
        "\n",
        "# Create a zip file containing the translated images with the desired output name\n",
        "output_zip_name = 'result ENG.zip'  # Note: Including '.zip' extension\n",
        "output_zip_path = os.path.join('/content/drive/My Drive', output_zip_name)  # Specify the path in your Google Drive\n",
        "\n",
        "shutil.make_archive(output_zip_path.split('.')[0], 'zip', translated_images_dir)\n",
        "\n",
        "# Move the created zip file to Google Drive\n",
        "shutil.move(output_zip_name, output_zip_path)\n",
        "\n",
        "print(f\"Zip file saved to '{output_zip_path}' in your Google Drive.\")\n"
      ],
      "metadata": {
        "id": "GaEtdACi9KhR"
      },
      "execution_count": null,
      "outputs": []
    },
    {
      "cell_type": "code",
      "source": [
        "import os\n",
        "import shutil\n",
        "\n",
        "# Define the directories to remove\n",
        "directories_to_remove = ['/content/test', '/content/test-translated']\n",
        "zip_file_to_remove = '/content/translated_images6.zip'\n",
        "\n",
        "# Remove the directories and all their contents\n",
        "for directory in directories_to_remove:\n",
        "    shutil.rmtree(directory)\n",
        "\n",
        "# Remove the zip file\n",
        "if os.path.exists(zip_file_to_remove):\n",
        "    os.remove(zip_file_to_remove)\n",
        "else:\n",
        "    print(\"The zip file doesn't exist.\")\n"
      ],
      "metadata": {
        "id": "w8yqYf0_9Mok",
        "colab": {
          "base_uri": "https://localhost:8080/"
        },
        "outputId": "1730bd16-f9cb-4bb3-b522-e34685a07cb3"
      },
      "execution_count": null,
      "outputs": [
        {
          "output_type": "stream",
          "name": "stdout",
          "text": [
            "The zip file doesn't exist.\n"
          ]
        }
      ]
    }
  ]
}